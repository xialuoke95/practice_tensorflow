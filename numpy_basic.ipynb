{
 "cells": [
  {
   "cell_type": "code",
   "execution_count": null,
   "id": "55a8eb76",
   "metadata": {},
   "outputs": [],
   "source": []
  },
  {
   "cell_type": "code",
   "execution_count": 8,
   "id": "81be6e14",
   "metadata": {},
   "outputs": [],
   "source": [
    "import numpy as np\n",
    "import tensorflow as tf"
   ]
  },
  {
   "cell_type": "code",
   "execution_count": null,
   "id": "f5de7f25",
   "metadata": {},
   "outputs": [],
   "source": [
    "#----------------------- init"
   ]
  },
  {
   "cell_type": "code",
   "execution_count": 12,
   "id": "b5125e39",
   "metadata": {},
   "outputs": [
    {
     "data": {
      "text/plain": [
       "array([], shape=(1, 0), dtype=float64)"
      ]
     },
     "execution_count": 12,
     "metadata": {},
     "output_type": "execute_result"
    }
   ],
   "source": [
    "np.array([[]])"
   ]
  },
  {
   "cell_type": "code",
   "execution_count": 9,
   "id": "f3148988",
   "metadata": {},
   "outputs": [
    {
     "data": {
      "text/plain": [
       "<tf.Tensor: id=0, shape=(2,), dtype=float32, numpy=array([2., 3.], dtype=float32)>"
      ]
     },
     "execution_count": 9,
     "metadata": {},
     "output_type": "execute_result"
    }
   ],
   "source": [
    "tf.convert_to_tensor([2.0,3.0])"
   ]
  },
  {
   "cell_type": "code",
   "execution_count": null,
   "id": "399d48ed",
   "metadata": {},
   "outputs": [],
   "source": []
  },
  {
   "cell_type": "code",
   "execution_count": null,
   "id": "29079681",
   "metadata": {},
   "outputs": [],
   "source": [
    "#------------------------------ attribute"
   ]
  },
  {
   "cell_type": "code",
   "execution_count": null,
   "id": "486b90db",
   "metadata": {},
   "outputs": [],
   "source": [
    "arr.shape\n",
    "arr.dtype\n",
    "\n"
   ]
  },
  {
   "cell_type": "code",
   "execution_count": null,
   "id": "3832c5aa",
   "metadata": {},
   "outputs": [],
   "source": [
    "#------------------------------ one hot"
   ]
  },
  {
   "cell_type": "code",
   "execution_count": 5,
   "id": "2b150461",
   "metadata": {},
   "outputs": [
    {
     "name": "stdout",
     "output_type": "stream",
     "text": [
      "(5,)\n",
      "[[0. 1. 0. 0. 0. 0. 0. 0. 0. 0.]\n",
      " [0. 0. 0. 1. 0. 0. 0. 0. 0. 0.]\n",
      " [0. 0. 0. 0. 1. 0. 0. 0. 0. 0.]\n",
      " [0. 0. 0. 0. 0. 1. 0. 0. 0. 0.]\n",
      " [0. 0. 0. 0. 0. 0. 0. 0. 0. 1.]]\n"
     ]
    }
   ],
   "source": [
    "#设置类别的数量\n",
    "num_classes = 10\n",
    "#需要转换的整数\n",
    "arr = np.array([1,3,4,5,9])\n",
    "print(arr.shape)\n",
    "\n",
    "#将整数转为一个10位的one hot编码\n",
    "print()"
   ]
  },
  {
   "cell_type": "code",
   "execution_count": null,
   "id": "46e64752",
   "metadata": {},
   "outputs": [],
   "source": []
  },
  {
   "cell_type": "code",
   "execution_count": 13,
   "id": "d650da10",
   "metadata": {},
   "outputs": [],
   "source": [
    "#----------------------- 拼接扩展"
   ]
  },
  {
   "cell_type": "code",
   "execution_count": 19,
   "id": "9d87b1b5",
   "metadata": {},
   "outputs": [
    {
     "name": "stdout",
     "output_type": "stream",
     "text": [
      "[[1 2]\n",
      " [3 4]]\n",
      "(2, 2) (1, 2)\n",
      "(3, 2)\n"
     ]
    }
   ],
   "source": [
    "a = np.array([[1, 2], [3, 4]])\n",
    "b = np.array([[5, 6]])\n",
    "\n",
    "print(a.shape, b.shape)\n",
    "print(np.concatenate((a, b), axis=0).shape)"
   ]
  },
  {
   "cell_type": "code",
   "execution_count": 20,
   "id": "e6a227b7",
   "metadata": {},
   "outputs": [
    {
     "data": {
      "text/plain": [
       "array([[1, 2],\n",
       "       [3, 4]])"
      ]
     },
     "execution_count": 20,
     "metadata": {},
     "output_type": "execute_result"
    }
   ],
   "source": [
    "a"
   ]
  },
  {
   "cell_type": "code",
   "execution_count": null,
   "id": "f6ad6299",
   "metadata": {},
   "outputs": [],
   "source": [
    "input_array = np.random.randint(1000, size=(32, 10))\n",
    "input_array = np.concatenate(\n",
    "    (input_array, np.random.randint(1000, size=(1, 10))), \n",
    "    axis=0\n",
    ")"
   ]
  }
 ],
 "metadata": {
  "kernelspec": {
   "display_name": "Python 3",
   "language": "python",
   "name": "python3"
  },
  "language_info": {
   "codemirror_mode": {
    "name": "ipython",
    "version": 3
   },
   "file_extension": ".py",
   "mimetype": "text/x-python",
   "name": "python",
   "nbconvert_exporter": "python",
   "pygments_lexer": "ipython3",
   "version": "3.7.3"
  }
 },
 "nbformat": 4,
 "nbformat_minor": 5
}
